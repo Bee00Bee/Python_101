{
 "cells": [
  {
   "cell_type": "markdown",
   "id": "77ea8e78",
   "metadata": {},
   "source": [
    "### Unpacking arguments\n",
    "The arguments can be used as a single input of a function which can be taken as * *args*"
   ]
  },
  {
   "cell_type": "code",
   "execution_count": 4,
   "id": "b420d6a0",
   "metadata": {},
   "outputs": [],
   "source": [
    "def print_arg(*args):\n",
    "    print(args)"
   ]
  },
  {
   "cell_type": "code",
   "execution_count": 5,
   "id": "1d89cf5a",
   "metadata": {},
   "outputs": [
    {
     "name": "stdout",
     "output_type": "stream",
     "text": [
      "(1, 3, 5)\n"
     ]
    }
   ],
   "source": [
    "print_arg(1,3,5)"
   ]
  },
  {
   "cell_type": "code",
   "execution_count": 23,
   "id": "616c3bef",
   "metadata": {},
   "outputs": [],
   "source": [
    "def multiply(*args):\n",
    "    total = 1\n",
    "    for arg in args:\n",
    "        total = total*arg\n",
    "    return total"
   ]
  },
  {
   "cell_type": "code",
   "execution_count": 24,
   "id": "41b4d797",
   "metadata": {},
   "outputs": [
    {
     "name": "stdout",
     "output_type": "stream",
     "text": [
      "(1, 3, 4)\n"
     ]
    },
    {
     "data": {
      "text/plain": [
       "12"
      ]
     },
     "execution_count": 24,
     "metadata": {},
     "output_type": "execute_result"
    }
   ],
   "source": [
    "multiply(1, 3, 4)"
   ]
  },
  {
   "cell_type": "code",
   "execution_count": 11,
   "id": "f3bb19e0",
   "metadata": {},
   "outputs": [],
   "source": [
    "def add_arg(*args):\n",
    "    sum_arg = 0\n",
    "    for arg in args:\n",
    "        sum_arg += arg\n",
    "    return sum_arg"
   ]
  },
  {
   "cell_type": "code",
   "execution_count": 12,
   "id": "477c0c4f",
   "metadata": {},
   "outputs": [
    {
     "data": {
      "text/plain": [
       "8"
      ]
     },
     "execution_count": 12,
     "metadata": {},
     "output_type": "execute_result"
    }
   ],
   "source": [
    "add_arg(1, 3, 4)"
   ]
  },
  {
   "cell_type": "markdown",
   "id": "6609b8f2",
   "metadata": {},
   "source": [
    "If we are dealing with dictionaries and the add function is not taken the * *args* then by using the ** we can call the dictionary values directly into the add function :"
   ]
  },
  {
   "cell_type": "code",
   "execution_count": 18,
   "id": "026625f7",
   "metadata": {},
   "outputs": [],
   "source": [
    "nums = {\"x\":4, \"y\":7}\n",
    "\n",
    "def add(x, y):\n",
    "    return (x+y)"
   ]
  },
  {
   "cell_type": "code",
   "execution_count": 19,
   "id": "b4149b8e",
   "metadata": {},
   "outputs": [
    {
     "data": {
      "text/plain": [
       "11"
      ]
     },
     "execution_count": 19,
     "metadata": {},
     "output_type": "execute_result"
    }
   ],
   "source": [
    "add(**nums)"
   ]
  },
  {
   "cell_type": "markdown",
   "id": "35c2b553",
   "metadata": {},
   "source": [
    "#### *apply* function with *arguments* with *named arguments*\n",
    "\n",
    "In the function below we are going to use * *arg* and the *named argument* as *operator*. If the *operator* is specified then the apply function takes it and applies to all arguments. An important note here is the usage of * *args* again inside the multiply and add_arg functions. The reason is the *args* is a tuple and it needs to be used with * *args* again eventhough the input of the apply function is * *args* \n",
    "\n",
    "For example:"
   ]
  },
  {
   "cell_type": "code",
   "execution_count": 25,
   "id": "7e9cc336",
   "metadata": {},
   "outputs": [],
   "source": [
    "def apply(*args, operator):\n",
    "    if operator == \"*\":\n",
    "        return multiply(*args)\n",
    "    if operator == \"+\":\n",
    "        return add_arg(*args)\n",
    "    else: \n",
    "        return (\"give valid operator to apply() function\")"
   ]
  },
  {
   "cell_type": "code",
   "execution_count": 26,
   "id": "3ad268f3",
   "metadata": {},
   "outputs": [
    {
     "data": {
      "text/plain": [
       "8"
      ]
     },
     "execution_count": 26,
     "metadata": {},
     "output_type": "execute_result"
    }
   ],
   "source": [
    "apply(1, 3, 4, operator=\"+\")"
   ]
  },
  {
   "cell_type": "code",
   "execution_count": 27,
   "id": "999a6fcd",
   "metadata": {},
   "outputs": [
    {
     "name": "stdout",
     "output_type": "stream",
     "text": [
      "(1, 3, 4)\n"
     ]
    },
    {
     "data": {
      "text/plain": [
       "12"
      ]
     },
     "execution_count": 27,
     "metadata": {},
     "output_type": "execute_result"
    }
   ],
   "source": [
    "apply(1, 3, 4, operator=\"*\")"
   ]
  },
  {
   "cell_type": "markdown",
   "id": "fb775de9",
   "metadata": {},
   "source": [
    "### Unpacking keyword arguments\n",
    "\n",
    "Here we play with keywords which can be used to create dictionaries. As an example here the *named* function uses the *kwargs* as keywords which have two stars: ** in the beginning. "
   ]
  },
  {
   "cell_type": "code",
   "execution_count": 30,
   "id": "0d86757b",
   "metadata": {},
   "outputs": [],
   "source": [
    "def named(**kwargs):\n",
    "    print(kwargs)"
   ]
  },
  {
   "cell_type": "code",
   "execution_count": 31,
   "id": "8c122ff4",
   "metadata": {},
   "outputs": [
    {
     "name": "stdout",
     "output_type": "stream",
     "text": [
      "{'name': 'bob', 'age': 25}\n"
     ]
    }
   ],
   "source": [
    "named (name=\"bob\", age=25)"
   ]
  },
  {
   "cell_type": "markdown",
   "id": "f40ea95b",
   "metadata": {},
   "source": [
    "We can also unpack the dictionary as below"
   ]
  },
  {
   "cell_type": "code",
   "execution_count": 33,
   "id": "2ecfea7c",
   "metadata": {},
   "outputs": [
    {
     "name": "stdout",
     "output_type": "stream",
     "text": [
      "{'name': 'bob', 'age': 25}\n"
     ]
    }
   ],
   "source": [
    "details = {\"name\":\"bob\", \"age\":25}\n",
    "\n",
    "named(**details)"
   ]
  },
  {
   "cell_type": "markdown",
   "id": "524472b1",
   "metadata": {},
   "source": [
    "Let's bring an example which has packing and unpacking arguments:"
   ]
  },
  {
   "cell_type": "code",
   "execution_count": 34,
   "id": "d4063b0f",
   "metadata": {},
   "outputs": [
    {
     "name": "stdout",
     "output_type": "stream",
     "text": [
      "{'name': 'Bob', 'age': 25}\n",
      "name:Bob\n",
      "age:25\n"
     ]
    }
   ],
   "source": [
    "def print_nicely(**kwargs):\n",
    "    named(**kwargs)\n",
    "    for arg, value in kwargs.items():\n",
    "        print(f\"{arg}:{value}\")\n",
    "\n",
    "print_nicely(name=\"Bob\", age=25)"
   ]
  }
 ],
 "metadata": {
  "kernelspec": {
   "display_name": "Python 3 (ipykernel)",
   "language": "python",
   "name": "python3"
  },
  "language_info": {
   "codemirror_mode": {
    "name": "ipython",
    "version": 3
   },
   "file_extension": ".py",
   "mimetype": "text/x-python",
   "name": "python",
   "nbconvert_exporter": "python",
   "pygments_lexer": "ipython3",
   "version": "3.9.7"
  }
 },
 "nbformat": 4,
 "nbformat_minor": 5
}
