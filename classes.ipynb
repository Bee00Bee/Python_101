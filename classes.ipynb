{
 "cells": [
  {
   "cell_type": "code",
   "execution_count": 13,
   "metadata": {},
   "outputs": [],
   "source": [
    "class Point:\n",
    "    def __init__(self,x, y):\n",
    "        self.x = x\n",
    "        self.y = y\n",
    "\n",
    "\n",
    "class Add:\n",
    "    def __init__(self, p1, p2):\n",
    "        self.p1 = p1\n",
    "        self.p2 = p2\n",
    "\n",
    "    def add(self):\n",
    "        return self.p1.x+self.p2.x, self.p1.y+self.p2.y\n",
    "    \n"
   ]
  },
  {
   "cell_type": "code",
   "execution_count": 14,
   "metadata": {},
   "outputs": [
    {
     "data": {
      "text/plain": [
       "(4, 7)"
      ]
     },
     "execution_count": 14,
     "metadata": {},
     "output_type": "execute_result"
    }
   ],
   "source": [
    "p1 = Point(1, 2)\n",
    "p2 = Point(3, 5)\n",
    "p3 = Point(1, 2)\n",
    "\n",
    "Add(p1, p2).add()"
   ]
  },
  {
   "cell_type": "markdown",
   "metadata": {},
   "source": []
  },
  {
   "cell_type": "code",
   "execution_count": 27,
   "metadata": {},
   "outputs": [],
   "source": [
    "### Class inheritence"
   ]
  },
  {
   "cell_type": "code",
   "execution_count": 25,
   "metadata": {},
   "outputs": [],
   "source": [
    "class Person:\n",
    "    def __init__(self, first_name, last_name):\n",
    "        self.first_name = first_name\n",
    "        self.last_name = last_name\n",
    "\n",
    "    def print_person(self):\n",
    "        print('student name is: ', self.first_name, self.last_name)\n",
    "\n",
    "class Student(Person):\n",
    "    def __init__(self, first_name, last_name, graduation_year):\n",
    "        Person.__init__(self, first_name, last_name)\n",
    "        self.graduation_year = graduation_year\n",
    "    \n",
    "    def print_student_status(self):\n",
    "        print(f\"This student {self.first_name}, {self.last_name} is graduated at this year {self.graduation_year}\")\n",
    "\n",
    "        \n",
    "\n",
    "\n"
   ]
  },
  {
   "cell_type": "code",
   "execution_count": 26,
   "metadata": {},
   "outputs": [
    {
     "name": "stdout",
     "output_type": "stream",
     "text": [
      "This student John, Jons is graduated at this year 2019\n"
     ]
    }
   ],
   "source": [
    "studen1 = Person('John', 'Jons')\n",
    "Student(studen1.first_name, studen1.last_name, 2019).print_student_status()"
   ]
  },
  {
   "cell_type": "code",
   "execution_count": null,
   "metadata": {},
   "outputs": [],
   "source": []
  }
 ],
 "metadata": {
  "kernelspec": {
   "display_name": "env",
   "language": "python",
   "name": "python3"
  },
  "language_info": {
   "codemirror_mode": {
    "name": "ipython",
    "version": 3
   },
   "file_extension": ".py",
   "mimetype": "text/x-python",
   "name": "python",
   "nbconvert_exporter": "python",
   "pygments_lexer": "ipython3",
   "version": "3.10.6"
  },
  "orig_nbformat": 4,
  "vscode": {
   "interpreter": {
    "hash": "0f1352d4bceda3940e77169ea431382bec3985a9c376b207b34009ac5b22a0b9"
   }
  }
 },
 "nbformat": 4,
 "nbformat_minor": 2
}
