{
 "cells": [
  {
   "cell_type": "markdown",
   "id": "4854f1de",
   "metadata": {},
   "source": [
    "# Functions: Simple functions, *lambda* function and *map*\n",
    "\n",
    "In this notebook you will learn about the way Python works in writing functions and calling them in the code. Mainly you will see the examples here.\n",
    "\n",
    "Below I want to creae a function which returns the multiplicaiton of two numbers if the multiplication = 100"
   ]
  },
  {
   "cell_type": "code",
   "execution_count": 20,
   "id": "e4b6b316",
   "metadata": {},
   "outputs": [],
   "source": [
    "def return_100():\n",
    "    return 100\n",
    "\n",
    "\n",
    "def multiplication():\n",
    "    print(\"give the first number:\\n\")\n",
    "    a = int(input())\n",
    "    print(\"give the second number:\\n\")\n",
    "    b = int(input())\n",
    "    result = a*b\n",
    "    \n",
    "    if result == 100:\n",
    "        return print(f\"\\nThe number is: {return_100()}\")\n",
    "    else:\n",
    "        print(\"try again\")"
   ]
  },
  {
   "cell_type": "code",
   "execution_count": 21,
   "id": "1034340a",
   "metadata": {},
   "outputs": [
    {
     "name": "stdout",
     "output_type": "stream",
     "text": [
      "give the first number:\n",
      "\n",
      "2\n",
      "give the second number:\n",
      "\n",
      "50\n",
      "\n",
      "The number is: 100\n"
     ]
    }
   ],
   "source": [
    "multiplication()"
   ]
  },
  {
   "cell_type": "markdown",
   "id": "2f8366a8",
   "metadata": {},
   "source": [
    "## Lambda Function\n",
    "\n",
    "Lambda function is a function that evaluates and expression for a given argument. \n",
    "\n",
    "As an example we want to add two numbers here, we can create functions with the name add. Also we can use *lambda* function which calculates the addition of two numbers here. There are multiple ways to call it"
   ]
  },
  {
   "cell_type": "code",
   "execution_count": 30,
   "id": "00d63674",
   "metadata": {},
   "outputs": [
    {
     "data": {
      "text/plain": [
       "7"
      ]
     },
     "execution_count": 30,
     "metadata": {},
     "output_type": "execute_result"
    }
   ],
   "source": [
    "def add(a, b):\n",
    "    return (a+b)\n",
    "\n",
    "add (4,3)"
   ]
  },
  {
   "cell_type": "markdown",
   "id": "202195f6",
   "metadata": {},
   "source": [
    "#### First way of calling lambda function"
   ]
  },
  {
   "cell_type": "code",
   "execution_count": 28,
   "id": "ed19e5e6",
   "metadata": {},
   "outputs": [],
   "source": [
    "add2 = lambda x, y: x + y"
   ]
  },
  {
   "cell_type": "code",
   "execution_count": 29,
   "id": "a3549fb0",
   "metadata": {},
   "outputs": [
    {
     "data": {
      "text/plain": [
       "4"
      ]
     },
     "execution_count": 29,
     "metadata": {},
     "output_type": "execute_result"
    }
   ],
   "source": [
    "add2 (2,2)"
   ]
  },
  {
   "cell_type": "markdown",
   "id": "c36f02d3",
   "metadata": {},
   "source": [
    "#### Second way of calling lambda function"
   ]
  },
  {
   "cell_type": "code",
   "execution_count": 31,
   "id": "bfbe250b",
   "metadata": {},
   "outputs": [
    {
     "data": {
      "text/plain": [
       "29"
      ]
     },
     "execution_count": 31,
     "metadata": {},
     "output_type": "execute_result"
    }
   ],
   "source": [
    "(lambda x,y: x+y)(10,19)"
   ]
  },
  {
   "cell_type": "markdown",
   "id": "fbdfac80",
   "metadata": {},
   "source": [
    "#### Usage of calling lambda function"
   ]
  },
  {
   "cell_type": "code",
   "execution_count": 36,
   "id": "9b8516cb",
   "metadata": {},
   "outputs": [
    {
     "data": {
      "text/plain": [
       "[2, 4, 6, 8, 10]"
      ]
     },
     "execution_count": 36,
     "metadata": {},
     "output_type": "execute_result"
    }
   ],
   "source": [
    "def double(x):\n",
    "    return x*2\n",
    "\n",
    "list_nums = [1,2,3,4,5]\n",
    "\n",
    "doubled = [double(x) for x in list_nums]\n",
    "doubled"
   ]
  },
  {
   "cell_type": "code",
   "execution_count": 39,
   "id": "e4776506",
   "metadata": {},
   "outputs": [
    {
     "data": {
      "text/plain": [
       "[2, 4, 6, 8, 10]"
      ]
     },
     "execution_count": 39,
     "metadata": {},
     "output_type": "execute_result"
    }
   ],
   "source": [
    "doubled2 = [ (lambda x: x*2)(x) for x in list_nums ]\n",
    "doubled2"
   ]
  },
  {
   "cell_type": "markdown",
   "id": "3a4a4d25",
   "metadata": {},
   "source": [
    "another way of is by using the *map* function so:"
   ]
  },
  {
   "cell_type": "code",
   "execution_count": 40,
   "id": "7335ea6b",
   "metadata": {},
   "outputs": [
    {
     "data": {
      "text/plain": [
       "[2, 4, 6, 8, 10]"
      ]
     },
     "execution_count": 40,
     "metadata": {},
     "output_type": "execute_result"
    }
   ],
   "source": [
    "doubled3 = list(map(double, list_nums))\n",
    "doubled3"
   ]
  },
  {
   "cell_type": "markdown",
   "id": "f42611e9",
   "metadata": {},
   "source": [
    "we can combine *map* and *lambda* function as:"
   ]
  },
  {
   "cell_type": "code",
   "execution_count": 41,
   "id": "18ee2be1",
   "metadata": {},
   "outputs": [
    {
     "data": {
      "text/plain": [
       "[2, 4, 6, 8, 10]"
      ]
     },
     "execution_count": 41,
     "metadata": {},
     "output_type": "execute_result"
    }
   ],
   "source": [
    "doubled4 = list( map(lambda x: x*2, list_nums) )\n",
    "doubled4"
   ]
  },
  {
   "cell_type": "markdown",
   "id": "ce3bd81b",
   "metadata": {},
   "source": [
    "Basically the *map* maps the *lambda* to the list of numbers and it returns an object which we need to convert it into a list. "
   ]
  }
 ],
 "metadata": {
  "kernelspec": {
   "display_name": "Python 3 (ipykernel)",
   "language": "python",
   "name": "python3"
  },
  "language_info": {
   "codemirror_mode": {
    "name": "ipython",
    "version": 3
   },
   "file_extension": ".py",
   "mimetype": "text/x-python",
   "name": "python",
   "nbconvert_exporter": "python",
   "pygments_lexer": "ipython3",
   "version": "3.9.7"
  }
 },
 "nbformat": 4,
 "nbformat_minor": 5
}
