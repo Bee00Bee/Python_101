{
 "cells": [
  {
   "cell_type": "markdown",
   "id": "ad70fc4a",
   "metadata": {},
   "source": [
    "# Dictionary\n",
    "\n",
    "Let's create the people tuple and then we can create the dictionary comprehension from it. "
   ]
  },
  {
   "cell_type": "code",
   "execution_count": 1,
   "id": "1d607c5b",
   "metadata": {},
   "outputs": [],
   "source": [
    "people = [\n",
    "    (0, \"John\",\"password\"),\n",
    "    (1, \"Rolf\",\"bob123\"),\n",
    "    (2,\"Jose\", \"longp4password\"),\n",
    "    (3, \"username\", \"1234\"),\n",
    "]"
   ]
  },
  {
   "cell_type": "markdown",
   "id": "9c211fa3",
   "metadata": {},
   "source": [
    "## Dictionary comprehension"
   ]
  },
  {
   "cell_type": "code",
   "execution_count": 4,
   "id": "68f15cfb",
   "metadata": {},
   "outputs": [
    {
     "data": {
      "text/plain": [
       "{'John': (0, 'John', 'password'),\n",
       " 'Rolf': (1, 'Rolf', 'bob123'),\n",
       " 'Jose': (2, 'Jose', 'longp4password'),\n",
       " 'username': (3, 'username', '1234')}"
      ]
     },
     "execution_count": 4,
     "metadata": {},
     "output_type": "execute_result"
    }
   ],
   "source": [
    "username_map = {user[1]:user for user in people}\n",
    "username_map"
   ]
  },
  {
   "cell_type": "code",
   "execution_count": 8,
   "id": "2f3cca44",
   "metadata": {},
   "outputs": [
    {
     "name": "stdout",
     "output_type": "stream",
     "text": [
      "Enter username:John\n",
      "Enter password:password\n",
      "John \n",
      " password\n"
     ]
    }
   ],
   "source": [
    "username_input = input(\"Enter username:\")\n",
    "password_input = input(\"Enter password:\")\n",
    "\n",
    "_, username, password = username_map[username_input]\n",
    "\n",
    "print(username,\"\\n\", password)"
   ]
  },
  {
   "cell_type": "markdown",
   "id": "538acf4c",
   "metadata": {},
   "source": [
    "### Example\n",
    "\n",
    "Below is a dictionary named student which has the name, school name and grades of the student to compute its average grades and finally to compute the average_grade_all_students."
   ]
  },
  {
   "cell_type": "code",
   "execution_count": 9,
   "id": "e7f0a87c",
   "metadata": {},
   "outputs": [],
   "source": [
    "student = {\n",
    "    \"name\":\"Jose\",\n",
    "    \"school\": \"Computing\",\n",
    "    \"grades\" : (66, 77, 88)\n",
    "}\n",
    "\n",
    "\n",
    "def average_grade(data):\n",
    "    grades = data['grades']\n",
    "    return sum(grades)/len(grades)\n",
    "\n",
    "\n",
    "def average_grade_all_students(student_list):\n",
    "    total = 0\n",
    "    count = 0\n",
    "    for student in student_list:\n",
    "        total = total + sum(student[\"grades\"])\n",
    "        count += len(student['grades'])\n",
    "    return total/count"
   ]
  }
 ],
 "metadata": {
  "kernelspec": {
   "display_name": "Python 3 (ipykernel)",
   "language": "python",
   "name": "python3"
  },
  "language_info": {
   "codemirror_mode": {
    "name": "ipython",
    "version": 3
   },
   "file_extension": ".py",
   "mimetype": "text/x-python",
   "name": "python",
   "nbconvert_exporter": "python",
   "pygments_lexer": "ipython3",
   "version": "3.9.7"
  }
 },
 "nbformat": 4,
 "nbformat_minor": 5
}
